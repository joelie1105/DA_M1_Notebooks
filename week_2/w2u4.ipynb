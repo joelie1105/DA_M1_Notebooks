{
 "cells": [
  {
   "cell_type": "markdown",
   "metadata": {},
   "source": [
    "# Iterating using the [for loop](https://docs.python.org/3/tutorial/controlflow.html#for-statements) - Basics\n",
    "\n",
    "Loops are needed in programming to run through a group of statements multiple times. The Python programming language has\n",
    "two types of loops: the `while` loop and the `for` loop. The `for` loop is a language element that is well suited for\n",
    "processing sequences like strings (character by character) and lists (element by element). Using a `for` loop a code\n",
    "block can be executed for every element of a list or every character of a string. \n",
    "\n",
    "\n",
    "# Syntax\n",
    "The general syntax of the `for` loop in Python is:\n",
    "\n",
    "```python\n",
    "for sequence-variable in sequence:\n",
    "    statement_1\n",
    "    statement_2\n",
    "    ...\n",
    "    statement_n\n",
    "```\n",
    "\n",
    "When processing a sequence with a `for` loop, one element of the sequence is assigned to a *sequence-variable* in each\n",
    "iteration. For example, when a `for` loop iterates over a string, one character is processed in each loop pass. What is\n",
    "done in the processing part of the loop is determined by the statements in the *loop body*. Just like `if-elif-else`,\n",
    "the loop body is specified by indenting. All statements in the loop body are then executed. \n",
    "\n",
    "The following graphic illustrates the execution of a `for` loop ![for_loop.png](./img/for_loop.png)"
   ]
  },
  {
   "cell_type": "markdown",
   "metadata": {},
   "source": [
    "To loop through a string letter by letter and output each letter for example the following Python code can be used:"
   ]
  },
  {
   "cell_type": "code",
   "execution_count": 2,
   "metadata": {},
   "outputs": [
    {
     "name": "stdout",
     "output_type": "stream",
     "text": [
      "H\n",
      "e\n",
      "l\n",
      "l\n",
      "o\n",
      " \n",
      "P\n",
      "y\n",
      "t\n",
      "h\n",
      "o\n",
      "n\n",
      " \n",
      "p\n",
      "r\n",
      "o\n",
      "g\n",
      "r\n",
      "a\n",
      "m\n",
      "m\n",
      "i\n",
      "n\n",
      "g\n"
     ]
    }
   ],
   "source": [
    "for char in \"Hello Python programming\":\n",
    "    print(char)"
   ]
  },
  {
   "cell_type": "markdown",
   "metadata": {},
   "source": [
    "You can iterate over a list in the same way:"
   ]
  },
  {
   "cell_type": "code",
   "execution_count": 3,
   "metadata": {},
   "outputs": [
    {
     "name": "stdout",
     "output_type": "stream",
     "text": [
      "3\n",
      "4\n",
      "234\n",
      "-12\n",
      "abc\n",
      "True\n"
     ]
    }
   ],
   "source": [
    "list1 = [3, 4, 234, -12, \"abc\", True]\n",
    "for element in list1:\n",
    "    print(element)"
   ]
  },
  {
   "cell_type": "markdown",
   "metadata": {},
   "source": [
    "## Find the smallest value in a list\n",
    "There is the function `min()` which gives you the smallest value of a list and you should always use this function\n",
    "instead of creating something on your own. However, how *could* you find the minimum value of a list with a for loop if\n",
    "there was no such function?  \n",
    "You could simply loop through the list step by step and compare the current sequence element to the minimum you found so\n",
    "far. If the current number is smaller than the minimum till now, the current sequence element, becomes the new minimum.\n",
    "If you reach the end of the list, the current minimum will also be the absolute minimum of the whole list.  \n",
    "\n",
    "**Important:** You have to define a variable for the *current minimum* in the beginning, but what value could you choose\n",
    "for the initialisation? If you choose a value which is too small and there is no smaller value in the list, you would\n",
    "get a wrong result in the end. In this particular case you can just initialise the variable with the first element of\n",
    "the list.  "
   ]
  },
  {
   "cell_type": "code",
   "execution_count": null,
   "metadata": {},
   "outputs": [],
   "source": [
    "# list1 contains some random values between 0 and 1000\n",
    "list1 = [\n",
    "    342,\n",
    "    185,\n",
    "    782,\n",
    "    847,\n",
    "    590,\n",
    "    556,\n",
    "    866,\n",
    "    141,\n",
    "    589,\n",
    "    749,\n",
    "    749,\n",
    "    708,\n",
    "    68,\n",
    "    458,\n",
    "    465,\n",
    "    507,\n",
    "    567,\n",
    "]\n",
    "\n",
    "current_minimum = list1[0]\n",
    "for number in list1:\n",
    "    # Compare current number with minimum and adjust minimum if necessary\n",
    "    if number < current_minimum:\n",
    "        current_minimum = number\n",
    "print(\"The minmum of the list is:\", current_minimum)"
   ]
  },
  {
   "cell_type": "markdown",
   "metadata": {},
   "source": [
    "**But again:** Using the `min()` and `max()` functions is preferable."
   ]
  },
  {
   "cell_type": "markdown",
   "metadata": {},
   "source": [
    "# Exercise\n",
    "Now it is your turn. Write a program that expects the user to enter a sentence first and then to enter a letter. The\n",
    "program should output the entered sentence, removing each occurrence of the entered letter. Additionally, the output\n",
    "loop should be constrained to print out a maximum of 20 characters only.\n",
    "\n",
    "\n",
    "The output should look like the following (*user input in **bold** for clarity*):\n",
    "> What sentence should be output? **This is how it should look like**  \n",
    "> Which letter should be removed? **i**  \n",
    "> Ths s how t should lo\n",
    "\n",
    "**Hint:** Using `input()`, first read in the sentence and then the letter to be removed. Create an empty string using\n",
    "```result = \"\"```. Then iterate over the letters. If a letter is not equal to the letter to be deleted, add that letter\n",
    "to result (``result += letter``). After the `for` loop, output the variable `result`. End (`break`) the loop early if\n",
    "the length of the result string is more than 20."
   ]
  },
  {
   "cell_type": "code",
   "execution_count": 7,
   "metadata": {},
   "outputs": [
    {
     "ename": "KeyboardInterrupt",
     "evalue": "",
     "output_type": "error",
     "traceback": [
      "\u001b[1;31m---------------------------------------------------------------------------\u001b[0m",
      "\u001b[1;31mKeyboardInterrupt\u001b[0m                         Traceback (most recent call last)",
      "Cell \u001b[1;32mIn[7], line 1\u001b[0m\n\u001b[1;32m----> 1\u001b[0m sentence \u001b[38;5;241m=\u001b[39m \u001b[38;5;28minput\u001b[39m(\u001b[38;5;124m\"\u001b[39m\u001b[38;5;124mThis is how it should look\u001b[39m\u001b[38;5;124m\"\u001b[39m)\n\u001b[0;32m      2\u001b[0m unwanted_letter \u001b[38;5;241m=\u001b[39m \u001b[38;5;28minput\u001b[39m(\u001b[38;5;124m\"\u001b[39m\u001b[38;5;124mWhich letter should be removed? \u001b[39m\u001b[38;5;124m\"\u001b[39m)\n\u001b[0;32m      4\u001b[0m result \u001b[38;5;241m=\u001b[39m \u001b[38;5;124m\"\u001b[39m\u001b[38;5;124m\"\u001b[39m\n",
      "File \u001b[1;32mc:\\Users\\jander7\\AppData\\Local\\anaconda3\\Lib\\site-packages\\debugpy\\_vendored\\pydevd\\_pydevd_bundle\\pydevd_frame.py:988\u001b[0m, in \u001b[0;36mPyDBFrame.trace_dispatch\u001b[1;34m(self, frame, event, arg)\u001b[0m\n\u001b[0;32m    986\u001b[0m \u001b[38;5;66;03m# if thread has a suspend flag, we suspend with a busy wait\u001b[39;00m\n\u001b[0;32m    987\u001b[0m \u001b[38;5;28;01mif\u001b[39;00m info\u001b[38;5;241m.\u001b[39mpydev_state \u001b[38;5;241m==\u001b[39m STATE_SUSPEND:\n\u001b[1;32m--> 988\u001b[0m     \u001b[38;5;28mself\u001b[39m\u001b[38;5;241m.\u001b[39mdo_wait_suspend(thread, frame, event, arg)\n\u001b[0;32m    989\u001b[0m     \u001b[38;5;28;01mreturn\u001b[39;00m \u001b[38;5;28mself\u001b[39m\u001b[38;5;241m.\u001b[39mtrace_dispatch\n\u001b[0;32m    990\u001b[0m \u001b[38;5;28;01melse\u001b[39;00m:\n",
      "File \u001b[1;32mc:\\Users\\jander7\\AppData\\Local\\anaconda3\\Lib\\site-packages\\debugpy\\_vendored\\pydevd\\_pydevd_bundle\\pydevd_frame.py:165\u001b[0m, in \u001b[0;36mPyDBFrame.do_wait_suspend\u001b[1;34m(self, *args, **kwargs)\u001b[0m\n\u001b[0;32m    164\u001b[0m \u001b[38;5;28;01mdef\u001b[39;00m \u001b[38;5;21mdo_wait_suspend\u001b[39m(\u001b[38;5;28mself\u001b[39m, \u001b[38;5;241m*\u001b[39margs, \u001b[38;5;241m*\u001b[39m\u001b[38;5;241m*\u001b[39mkwargs):\n\u001b[1;32m--> 165\u001b[0m     \u001b[38;5;28mself\u001b[39m\u001b[38;5;241m.\u001b[39m_args[\u001b[38;5;241m0\u001b[39m]\u001b[38;5;241m.\u001b[39mdo_wait_suspend(\u001b[38;5;241m*\u001b[39margs, \u001b[38;5;241m*\u001b[39m\u001b[38;5;241m*\u001b[39mkwargs)\n",
      "File \u001b[1;32mc:\\Users\\jander7\\AppData\\Local\\anaconda3\\Lib\\site-packages\\debugpy\\_vendored\\pydevd\\pydevd.py:2070\u001b[0m, in \u001b[0;36mPyDB.do_wait_suspend\u001b[1;34m(self, thread, frame, event, arg, exception_type)\u001b[0m\n\u001b[0;32m   2067\u001b[0m             from_this_thread\u001b[38;5;241m.\u001b[39mappend(frame_custom_thread_id)\n\u001b[0;32m   2069\u001b[0m     \u001b[38;5;28;01mwith\u001b[39;00m \u001b[38;5;28mself\u001b[39m\u001b[38;5;241m.\u001b[39m_threads_suspended_single_notification\u001b[38;5;241m.\u001b[39mnotify_thread_suspended(thread_id, thread, stop_reason):\n\u001b[1;32m-> 2070\u001b[0m         keep_suspended \u001b[38;5;241m=\u001b[39m \u001b[38;5;28mself\u001b[39m\u001b[38;5;241m.\u001b[39m_do_wait_suspend(thread, frame, event, arg, suspend_type, from_this_thread, frames_tracker)\n\u001b[0;32m   2072\u001b[0m frames_list \u001b[38;5;241m=\u001b[39m \u001b[38;5;28;01mNone\u001b[39;00m\n\u001b[0;32m   2074\u001b[0m \u001b[38;5;28;01mif\u001b[39;00m keep_suspended:\n\u001b[0;32m   2075\u001b[0m     \u001b[38;5;66;03m# This means that we should pause again after a set next statement.\u001b[39;00m\n",
      "File \u001b[1;32mc:\\Users\\jander7\\AppData\\Local\\anaconda3\\Lib\\site-packages\\debugpy\\_vendored\\pydevd\\pydevd.py:2106\u001b[0m, in \u001b[0;36mPyDB._do_wait_suspend\u001b[1;34m(self, thread, frame, event, arg, suspend_type, from_this_thread, frames_tracker)\u001b[0m\n\u001b[0;32m   2103\u001b[0m         \u001b[38;5;28mself\u001b[39m\u001b[38;5;241m.\u001b[39m_call_input_hook()\n\u001b[0;32m   2105\u001b[0m     \u001b[38;5;28mself\u001b[39m\u001b[38;5;241m.\u001b[39mprocess_internal_commands()\n\u001b[1;32m-> 2106\u001b[0m     time\u001b[38;5;241m.\u001b[39msleep(\u001b[38;5;241m0.01\u001b[39m)\n\u001b[0;32m   2108\u001b[0m \u001b[38;5;28mself\u001b[39m\u001b[38;5;241m.\u001b[39mcancel_async_evaluation(get_current_thread_id(thread), \u001b[38;5;28mstr\u001b[39m(\u001b[38;5;28mid\u001b[39m(frame)))\n\u001b[0;32m   2110\u001b[0m \u001b[38;5;66;03m# process any stepping instructions\u001b[39;00m\n",
      "\u001b[1;31mKeyboardInterrupt\u001b[0m: "
     ]
    }
   ],
   "source": [
    "sentence = input(\"This is how it should look\")\n",
    "unwanted_letter = input(\"Which letter should be removed? \")\n",
    "\n",
    "result = \"\"\n",
    "\n",
    "for letter in sentence:\n",
    "    if letter != unwanted_letter:\n",
    "        result += letter\n",
    "    if result > 20:\n",
    "        break"
   ]
  }
 ],
 "metadata": {
  "kernelspec": {
   "display_name": "base",
   "language": "python",
   "name": "python3"
  },
  "language_info": {
   "codemirror_mode": {
    "name": "ipython",
    "version": 3
   },
   "file_extension": ".py",
   "mimetype": "text/x-python",
   "name": "python",
   "nbconvert_exporter": "python",
   "pygments_lexer": "ipython3",
   "version": "3.12.7"
  }
 },
 "nbformat": 4,
 "nbformat_minor": 2
}
